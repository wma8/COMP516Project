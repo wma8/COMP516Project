{
 "cells": [
  {
   "cell_type": "code",
   "execution_count": 24,
   "metadata": {},
   "outputs": [],
   "source": [
    "import numpy as np\n",
    "import pandas as pd\n",
    "import matplotlib.pyplot as plt\n",
    "import collections\n",
    "from sklearn.decomposition import PCA\n",
    "from sklearn.preprocessing import LabelEncoder\n",
    "from sklearn.preprocessing import StandardScaler"
   ]
  },
  {
   "cell_type": "code",
   "execution_count": 2,
   "metadata": {},
   "outputs": [],
   "source": [
    "# read in data\n",
    "data = pd.read_csv('NewYork.csv')"
   ]
  },
  {
   "cell_type": "markdown",
   "metadata": {},
   "source": [
    "# data cleansing"
   ]
  },
  {
   "cell_type": "code",
   "execution_count": 3,
   "metadata": {},
   "outputs": [
    {
     "data": {
      "text/plain": [
       "(-1.1019296620684242,\n",
       " 1.1089713385687547,\n",
       " -1.1215025656294224,\n",
       " 1.1010239316966393)"
      ]
     },
     "execution_count": 3,
     "metadata": {},
     "output_type": "execute_result"
    },
    {
     "data": {
      "image/png": "[encoded data removed]",
      "text/plain": [
       "<Figure size 432x288 with 1 Axes>"
      ]
     },
     "metadata": {},
     "output_type": "display_data"
    }
   ],
   "source": [
    "# pie\n",
    "tmp  = data['review_scores_rating']\n",
    "not_nan = tmp[tmp>0]\n",
    "labels = 'terrible','fine','good','excellent'\n",
    "terrible = len(tmp[tmp<=80])  # rate<=80\n",
    "fine = len(tmp[tmp<=90])-terrible # 80 < rate <= 90\n",
    "good = len(tmp[tmp<100]) - terrible - fine # 95 < rate < 100\n",
    "excellent = len(tmp[tmp==100]) # rate = 100\n",
    "sizes = [terrible, fine, good, excellent]\n",
    "cmap = plt.get_cmap(\"tab20c\")\n",
    "colors = cmap(np.array([2, 1,6,10]))\n",
    "fig1, ax1 = plt.subplots()\n",
    "ax1.pie(sizes,  labels=labels, autopct = '%1.1f%%',shadow=False, startangle = 90,colors = colors)\n",
    "ax1.axis('equal')"
   ]
  },
  {
   "cell_type": "code",
   "execution_count": 48,
   "metadata": {},
   "outputs": [
    {
     "data": {
      "text/html": [
       "<div>\n",
       "<style scoped>\n",
       "    .dataframe tbody tr th:only-of-type {\n",
       "        vertical-align: middle;\n",
       "    }\n",
       "\n",
       "    .dataframe tbody tr th {\n",
       "        vertical-align: top;\n",
       "    }\n",
       "\n",
       "    .dataframe thead th {\n",
       "        text-align: right;\n",
       "    }\n",
       "</style>\n",
       "<table border=\"1\" class=\"dataframe\">\n",
       "  <thead>\n",
       "    <tr style=\"text-align: right;\">\n",
       "      <th></th>\n",
       "      <th>id</th>\n",
       "      <th>host_response_time</th>\n",
       "      <th>host_response_rate</th>\n",
       "      <th>host_is_superhost</th>\n",
       "      <th>host_has_profile_pic</th>\n",
       "      <th>neighbourhood_cleansed</th>\n",
       "      <th>latitude</th>\n",
       "      <th>longitude</th>\n",
       "      <th>is_location_exact</th>\n",
       "      <th>property_type</th>\n",
       "      <th>...</th>\n",
       "      <th>maximum_nights</th>\n",
       "      <th>calendar_updated</th>\n",
       "      <th>availability_30</th>\n",
       "      <th>number_of_reviews</th>\n",
       "      <th>review_scores_rating</th>\n",
       "      <th>instant_bookable</th>\n",
       "      <th>is_business_travel_ready</th>\n",
       "      <th>cancellation_policy</th>\n",
       "      <th>require_guest_profile_picture</th>\n",
       "      <th>reviews_per_month</th>\n",
       "    </tr>\n",
       "  </thead>\n",
       "  <tbody>\n",
       "    <tr>\n",
       "      <th>0</th>\n",
       "      <td>18461891</td>\n",
       "      <td>NaN</td>\n",
       "      <td>NaN</td>\n",
       "      <td>f</td>\n",
       "      <td>t</td>\n",
       "      <td>Ditmars Steinway</td>\n",
       "      <td>40.774142</td>\n",
       "      <td>-73.916246</td>\n",
       "      <td>t</td>\n",
       "      <td>Apartment</td>\n",
       "      <td>...</td>\n",
       "      <td>6</td>\n",
       "      <td>5 months ago</td>\n",
       "      <td>0</td>\n",
       "      <td>0</td>\n",
       "      <td>NaN</td>\n",
       "      <td>f</td>\n",
       "      <td>f</td>\n",
       "      <td>strict</td>\n",
       "      <td>f</td>\n",
       "      <td>NaN</td>\n",
       "    </tr>\n",
       "    <tr>\n",
       "      <th>1</th>\n",
       "      <td>20702398</td>\n",
       "      <td>within an hour</td>\n",
       "      <td>100%</td>\n",
       "      <td>f</td>\n",
       "      <td>t</td>\n",
       "      <td>City Island</td>\n",
       "      <td>40.849191</td>\n",
       "      <td>-73.786509</td>\n",
       "      <td>f</td>\n",
       "      <td>House</td>\n",
       "      <td>...</td>\n",
       "      <td>21</td>\n",
       "      <td>2 weeks ago</td>\n",
       "      <td>19</td>\n",
       "      <td>2</td>\n",
       "      <td>100.0</td>\n",
       "      <td>f</td>\n",
       "      <td>f</td>\n",
       "      <td>moderate</td>\n",
       "      <td>f</td>\n",
       "      <td>2.00</td>\n",
       "    </tr>\n",
       "    <tr>\n",
       "      <th>2</th>\n",
       "      <td>6627449</td>\n",
       "      <td>within an hour</td>\n",
       "      <td>100%</td>\n",
       "      <td>f</td>\n",
       "      <td>t</td>\n",
       "      <td>City Island</td>\n",
       "      <td>40.849775</td>\n",
       "      <td>-73.786609</td>\n",
       "      <td>t</td>\n",
       "      <td>Apartment</td>\n",
       "      <td>...</td>\n",
       "      <td>21</td>\n",
       "      <td>2 weeks ago</td>\n",
       "      <td>28</td>\n",
       "      <td>21</td>\n",
       "      <td>95.0</td>\n",
       "      <td>f</td>\n",
       "      <td>f</td>\n",
       "      <td>strict</td>\n",
       "      <td>f</td>\n",
       "      <td>0.77</td>\n",
       "    </tr>\n",
       "    <tr>\n",
       "      <th>3</th>\n",
       "      <td>19949243</td>\n",
       "      <td>within a few hours</td>\n",
       "      <td>100%</td>\n",
       "      <td>f</td>\n",
       "      <td>t</td>\n",
       "      <td>City Island</td>\n",
       "      <td>40.848838</td>\n",
       "      <td>-73.782276</td>\n",
       "      <td>f</td>\n",
       "      <td>Boat</td>\n",
       "      <td>...</td>\n",
       "      <td>1125</td>\n",
       "      <td>6 days ago</td>\n",
       "      <td>30</td>\n",
       "      <td>0</td>\n",
       "      <td>NaN</td>\n",
       "      <td>t</td>\n",
       "      <td>f</td>\n",
       "      <td>strict</td>\n",
       "      <td>f</td>\n",
       "      <td>NaN</td>\n",
       "    </tr>\n",
       "    <tr>\n",
       "      <th>4</th>\n",
       "      <td>1886820</td>\n",
       "      <td>NaN</td>\n",
       "      <td>NaN</td>\n",
       "      <td>f</td>\n",
       "      <td>t</td>\n",
       "      <td>City Island</td>\n",
       "      <td>40.841144</td>\n",
       "      <td>-73.783052</td>\n",
       "      <td>t</td>\n",
       "      <td>House</td>\n",
       "      <td>...</td>\n",
       "      <td>90</td>\n",
       "      <td>16 months ago</td>\n",
       "      <td>30</td>\n",
       "      <td>0</td>\n",
       "      <td>NaN</td>\n",
       "      <td>f</td>\n",
       "      <td>f</td>\n",
       "      <td>strict</td>\n",
       "      <td>f</td>\n",
       "      <td>NaN</td>\n",
       "    </tr>\n",
       "    <tr>\n",
       "      <th>...</th>\n",
       "      <td>...</td>\n",
       "      <td>...</td>\n",
       "      <td>...</td>\n",
       "      <td>...</td>\n",
       "      <td>...</td>\n",
       "      <td>...</td>\n",
       "      <td>...</td>\n",
       "      <td>...</td>\n",
       "      <td>...</td>\n",
       "      <td>...</td>\n",
       "      <td>...</td>\n",
       "      <td>...</td>\n",
       "      <td>...</td>\n",
       "      <td>...</td>\n",
       "      <td>...</td>\n",
       "      <td>...</td>\n",
       "      <td>...</td>\n",
       "      <td>...</td>\n",
       "      <td>...</td>\n",
       "      <td>...</td>\n",
       "      <td>...</td>\n",
       "    </tr>\n",
       "    <tr>\n",
       "      <th>44312</th>\n",
       "      <td>20530309</td>\n",
       "      <td>within an hour</td>\n",
       "      <td>90%</td>\n",
       "      <td>f</td>\n",
       "      <td>t</td>\n",
       "      <td>Flatlands</td>\n",
       "      <td>40.618675</td>\n",
       "      <td>-73.932736</td>\n",
       "      <td>f</td>\n",
       "      <td>Apartment</td>\n",
       "      <td>...</td>\n",
       "      <td>1125</td>\n",
       "      <td>2 weeks ago</td>\n",
       "      <td>30</td>\n",
       "      <td>1</td>\n",
       "      <td>100.0</td>\n",
       "      <td>t</td>\n",
       "      <td>f</td>\n",
       "      <td>flexible</td>\n",
       "      <td>f</td>\n",
       "      <td>0.81</td>\n",
       "    </tr>\n",
       "    <tr>\n",
       "      <th>44313</th>\n",
       "      <td>20459907</td>\n",
       "      <td>within a few hours</td>\n",
       "      <td>100%</td>\n",
       "      <td>f</td>\n",
       "      <td>t</td>\n",
       "      <td>Bushwick</td>\n",
       "      <td>40.684681</td>\n",
       "      <td>-73.905174</td>\n",
       "      <td>t</td>\n",
       "      <td>Apartment</td>\n",
       "      <td>...</td>\n",
       "      <td>30</td>\n",
       "      <td>2 weeks ago</td>\n",
       "      <td>4</td>\n",
       "      <td>0</td>\n",
       "      <td>NaN</td>\n",
       "      <td>t</td>\n",
       "      <td>f</td>\n",
       "      <td>strict</td>\n",
       "      <td>f</td>\n",
       "      <td>NaN</td>\n",
       "    </tr>\n",
       "    <tr>\n",
       "      <th>44314</th>\n",
       "      <td>4287386</td>\n",
       "      <td>within an hour</td>\n",
       "      <td>100%</td>\n",
       "      <td>f</td>\n",
       "      <td>t</td>\n",
       "      <td>Rockaway Beach</td>\n",
       "      <td>40.583865</td>\n",
       "      <td>-73.819245</td>\n",
       "      <td>f</td>\n",
       "      <td>Apartment</td>\n",
       "      <td>...</td>\n",
       "      <td>60</td>\n",
       "      <td>2 weeks ago</td>\n",
       "      <td>1</td>\n",
       "      <td>6</td>\n",
       "      <td>87.0</td>\n",
       "      <td>f</td>\n",
       "      <td>f</td>\n",
       "      <td>moderate</td>\n",
       "      <td>f</td>\n",
       "      <td>3.91</td>\n",
       "    </tr>\n",
       "    <tr>\n",
       "      <th>44315</th>\n",
       "      <td>20939747</td>\n",
       "      <td>within an hour</td>\n",
       "      <td>100%</td>\n",
       "      <td>f</td>\n",
       "      <td>t</td>\n",
       "      <td>Rosedale</td>\n",
       "      <td>40.679998</td>\n",
       "      <td>-73.720787</td>\n",
       "      <td>f</td>\n",
       "      <td>Apartment</td>\n",
       "      <td>...</td>\n",
       "      <td>1125</td>\n",
       "      <td>a week ago</td>\n",
       "      <td>7</td>\n",
       "      <td>0</td>\n",
       "      <td>NaN</td>\n",
       "      <td>f</td>\n",
       "      <td>f</td>\n",
       "      <td>strict</td>\n",
       "      <td>f</td>\n",
       "      <td>NaN</td>\n",
       "    </tr>\n",
       "    <tr>\n",
       "      <th>44316</th>\n",
       "      <td>21135710</td>\n",
       "      <td>NaN</td>\n",
       "      <td>NaN</td>\n",
       "      <td>f</td>\n",
       "      <td>t</td>\n",
       "      <td>Upper West Side</td>\n",
       "      <td>40.776465</td>\n",
       "      <td>-73.970659</td>\n",
       "      <td>f</td>\n",
       "      <td>Apartment</td>\n",
       "      <td>...</td>\n",
       "      <td>1125</td>\n",
       "      <td>today</td>\n",
       "      <td>17</td>\n",
       "      <td>0</td>\n",
       "      <td>NaN</td>\n",
       "      <td>f</td>\n",
       "      <td>f</td>\n",
       "      <td>flexible</td>\n",
       "      <td>f</td>\n",
       "      <td>NaN</td>\n",
       "    </tr>\n",
       "  </tbody>\n",
       "</table>\n",
       "<p>44317 rows × 31 columns</p>\n",
       "</div>"
      ],
      "text/plain": [
       "             id  host_response_time host_response_rate host_is_superhost  \\\n",
       "0      18461891                 NaN                NaN                 f   \n",
       "1      20702398      within an hour               100%                 f   \n",
       "2       6627449      within an hour               100%                 f   \n",
       "3      19949243  within a few hours               100%                 f   \n",
       "4       1886820                 NaN                NaN                 f   \n",
       "...         ...                 ...                ...               ...   \n",
       "44312  20530309      within an hour                90%                 f   \n",
       "44313  20459907  within a few hours               100%                 f   \n",
       "44314   4287386      within an hour               100%                 f   \n",
       "44315  20939747      within an hour               100%                 f   \n",
       "44316  21135710                 NaN                NaN                 f   \n",
       "\n",
       "      host_has_profile_pic neighbourhood_cleansed   latitude  longitude  \\\n",
       "0                        t       Ditmars Steinway  40.774142 -73.916246   \n",
       "1                        t            City Island  40.849191 -73.786509   \n",
       "2                        t            City Island  40.849775 -73.786609   \n",
       "3                        t            City Island  40.848838 -73.782276   \n",
       "4                        t            City Island  40.841144 -73.783052   \n",
       "...                    ...                    ...        ...        ...   \n",
       "44312                    t              Flatlands  40.618675 -73.932736   \n",
       "44313                    t               Bushwick  40.684681 -73.905174   \n",
       "44314                    t         Rockaway Beach  40.583865 -73.819245   \n",
       "44315                    t               Rosedale  40.679998 -73.720787   \n",
       "44316                    t        Upper West Side  40.776465 -73.970659   \n",
       "\n",
       "      is_location_exact property_type  ... maximum_nights  calendar_updated  \\\n",
       "0                     t     Apartment  ...              6      5 months ago   \n",
       "1                     f         House  ...             21       2 weeks ago   \n",
       "2                     t     Apartment  ...             21       2 weeks ago   \n",
       "3                     f          Boat  ...           1125        6 days ago   \n",
       "4                     t         House  ...             90     16 months ago   \n",
       "...                 ...           ...  ...            ...               ...   \n",
       "44312                 f     Apartment  ...           1125       2 weeks ago   \n",
       "44313                 t     Apartment  ...             30       2 weeks ago   \n",
       "44314                 f     Apartment  ...             60       2 weeks ago   \n",
       "44315                 f     Apartment  ...           1125        a week ago   \n",
       "44316                 f     Apartment  ...           1125             today   \n",
       "\n",
       "       availability_30  number_of_reviews  review_scores_rating  \\\n",
       "0                    0                  0                   NaN   \n",
       "1                   19                  2                 100.0   \n",
       "2                   28                 21                  95.0   \n",
       "3                   30                  0                   NaN   \n",
       "4                   30                  0                   NaN   \n",
       "...                ...                ...                   ...   \n",
       "44312               30                  1                 100.0   \n",
       "44313                4                  0                   NaN   \n",
       "44314                1                  6                  87.0   \n",
       "44315                7                  0                   NaN   \n",
       "44316               17                  0                   NaN   \n",
       "\n",
       "      instant_bookable is_business_travel_ready  cancellation_policy  \\\n",
       "0                    f                        f               strict   \n",
       "1                    f                        f             moderate   \n",
       "2                    f                        f               strict   \n",
       "3                    t                        f               strict   \n",
       "4                    f                        f               strict   \n",
       "...                ...                      ...                  ...   \n",
       "44312                t                        f             flexible   \n",
       "44313                t                        f               strict   \n",
       "44314                f                        f             moderate   \n",
       "44315                f                        f               strict   \n",
       "44316                f                        f             flexible   \n",
       "\n",
       "       require_guest_profile_picture  reviews_per_month  \n",
       "0                                  f                NaN  \n",
       "1                                  f               2.00  \n",
       "2                                  f               0.77  \n",
       "3                                  f                NaN  \n",
       "4                                  f                NaN  \n",
       "...                              ...                ...  \n",
       "44312                              f               0.81  \n",
       "44313                              f                NaN  \n",
       "44314                              f               3.91  \n",
       "44315                              f                NaN  \n",
       "44316                              f                NaN  \n",
       "\n",
       "[44317 rows x 31 columns]"
      ]
     },
     "execution_count": 48,
     "metadata": {},
     "output_type": "execute_result"
    }
   ],
   "source": [
    "data.keys()"
   ]
  },
  {
   "cell_type": "code",
   "execution_count": 5,
   "metadata": {
    "scrolled": true
   },
   "outputs": [
    {
     "name": "stdout",
     "output_type": "stream",
     "text": [
      "21837 21837\n"
     ]
    },
    {
     "data": {
      "text/plain": [
       "[<matplotlib.lines.Line2D at 0x1a163fcd90>]"
      ]
     },
     "execution_count": 5,
     "metadata": {},
     "output_type": "execute_result"
    },
    {
     "data": {
      "image/png": "[encoded data removed]",
      "text/plain": [
       "<Figure size 432x288 with 1 Axes>"
      ]
     },
     "metadata": {
      "needs_background": "light"
     },
     "output_type": "display_data"
    }
   ],
   "source": [
    "regions = collections.Counter(data['neighbourhood_cleansed'])\n",
    "sort_r = sorted(regions.items(), key = lambda x: x[1],reverse = True)[:10]\n",
    "x_plt = []\n",
    "y_plt = []\n",
    "for i in range(len(sort_r)):\n",
    "    price = data['price']\n",
    "    regs = data['neighbourhood_cleansed']\n",
    "    idxs = [regs==sort_r[i]]\n",
    "    s= list(price[regs == sort_r[i][0]])\n",
    "    x_plt += s\n",
    "    y_plt += [sort_r[i][0]]*len(s)\n",
    "\n",
    "print(len(x_plt),len(y_plt))\n",
    "plt.plot(x_plt,y_plt,\".\")"
   ]
  },
  {
   "cell_type": "code",
   "execution_count": 16,
   "metadata": {},
   "outputs": [
    {
     "data": {
      "text/plain": [
       "[<matplotlib.lines.Line2D at 0x1a177b7dd0>]"
      ]
     },
     "execution_count": 16,
     "metadata": {},
     "output_type": "execute_result"
    },
    {
     "data": {
      "image/png": "[encoded data removed]",
      "text/plain": [
       "<Figure size 432x288 with 1 Axes>"
      ]
     },
     "metadata": {
      "needs_background": "light"
     },
     "output_type": "display_data"
    }
   ],
   "source": [
    "beds = data['room_type']\n",
    "price = data['price']\n",
    "plt.plot(price,beds,\".\")"
   ]
  },
  {
   "cell_type": "markdown",
   "metadata": {},
   "source": [
    "# PCA using one HOT encoding"
   ]
  },
  {
   "cell_type": "code",
   "execution_count": 49,
   "metadata": {},
   "outputs": [],
   "source": [
    "new_data = data[['price',\n",
    "           'room_type',\n",
    "           'accommodates',\n",
    "           'review_scores_rating',\n",
    "           'neighbourhood_cleansed']]\n",
    "new_data = new_data[tmp>0]"
   ]
  },
  {
   "cell_type": "code",
   "execution_count": 50,
   "metadata": {},
   "outputs": [],
   "source": [
    "lb_nh = LabelEncoder()\n",
    "lb_rt = LabelEncoder()"
   ]
  },
  {
   "cell_type": "code",
   "execution_count": 51,
   "metadata": {},
   "outputs": [],
   "source": [
    "oh_neighborhood = pd.get_dummies(new_data.neighbourhood_cleansed).astype(int)\n",
    "oh_room_type = pd.get_dummies(new_data.room_type).astype(int)"
   ]
  },
  {
   "cell_type": "code",
   "execution_count": 52,
   "metadata": {},
   "outputs": [],
   "source": [
    "le_neighborhood = lb_nh.fit_transform(new_data[\"neighbourhood_cleansed\"])\n",
    "le_room_type = lb_rt.fit_transform(new_data['room_type'])"
   ]
  },
  {
   "cell_type": "code",
   "execution_count": 53,
   "metadata": {},
   "outputs": [],
   "source": [
    "new_data = new_data.drop(['room_type','neighbourhood_cleansed'], axis = 1)\n",
    "le_data = pd.DataFrame(new_data)"
   ]
  },
  {
   "cell_type": "code",
   "execution_count": 54,
   "metadata": {},
   "outputs": [],
   "source": [
    "le_neighborhood = pd.DataFrame(le_neighborhood)\n",
    "le_room_type = pd.DataFrame(le_room_type)"
   ]
  },
  {
   "cell_type": "code",
   "execution_count": 55,
   "metadata": {},
   "outputs": [],
   "source": [
    "le_data = pd.concat((new_data, le_room_type, le_neighborhood), axis = 1)"
   ]
  },
  {
   "cell_type": "code",
   "execution_count": 56,
   "metadata": {},
   "outputs": [
    {
     "name": "stderr",
     "output_type": "stream",
     "text": [
      "/anaconda2/envs/mlhw/lib/python3.7/site-packages/ipykernel_launcher.py:6: UserWarning: Boolean Series key will be reindexed to match DataFrame index.\n",
      "  \n"
     ]
    }
   ],
   "source": [
    "le_data.columns = ['price',\n",
    "           'room_type',\n",
    "           'accommodates',\n",
    "           'review_scores_rating',\n",
    "           'neighbourhood_cleansed']\n",
    "le_data = le_data[tmp>0]"
   ]
  },
  {
   "cell_type": "code",
   "execution_count": 57,
   "metadata": {},
   "outputs": [],
   "source": [
    "new_data = pd.concat((new_data, oh_room_type, oh_neighborhood), axis = 1)"
   ]
  },
  {
   "cell_type": "code",
   "execution_count": 58,
   "metadata": {},
   "outputs": [],
   "source": [
    "le_data = le_data.dropna(axis=0, how='any')"
   ]
  },
  {
   "cell_type": "code",
   "execution_count": 59,
   "metadata": {},
   "outputs": [],
   "source": [
    "new_data = new_data[:le_data.shape[0]]"
   ]
  },
  {
   "cell_type": "code",
   "execution_count": 60,
   "metadata": {},
   "outputs": [
    {
     "data": {
      "text/html": [
       "<div>\n",
       "<style scoped>\n",
       "    .dataframe tbody tr th:only-of-type {\n",
       "        vertical-align: middle;\n",
       "    }\n",
       "\n",
       "    .dataframe tbody tr th {\n",
       "        vertical-align: top;\n",
       "    }\n",
       "\n",
       "    .dataframe thead th {\n",
       "        text-align: right;\n",
       "    }\n",
       "</style>\n",
       "<table border=\"1\" class=\"dataframe\">\n",
       "  <thead>\n",
       "    <tr style=\"text-align: right;\">\n",
       "      <th></th>\n",
       "      <th>price</th>\n",
       "      <th>accommodates</th>\n",
       "      <th>review_scores_rating</th>\n",
       "      <th>Entire home/apt</th>\n",
       "      <th>Private room</th>\n",
       "      <th>Shared room</th>\n",
       "      <th>Allerton</th>\n",
       "      <th>Arden Heights</th>\n",
       "      <th>Arrochar</th>\n",
       "      <th>Arverne</th>\n",
       "      <th>...</th>\n",
       "      <th>West Village</th>\n",
       "      <th>Westchester Square</th>\n",
       "      <th>Whitestone</th>\n",
       "      <th>Williamsbridge</th>\n",
       "      <th>Williamsburg</th>\n",
       "      <th>Windsor Terrace</th>\n",
       "      <th>Woodhaven</th>\n",
       "      <th>Woodlawn</th>\n",
       "      <th>Woodrow</th>\n",
       "      <th>Woodside</th>\n",
       "    </tr>\n",
       "  </thead>\n",
       "  <tbody>\n",
       "    <tr>\n",
       "      <th>1</th>\n",
       "      <td>50</td>\n",
       "      <td>2</td>\n",
       "      <td>100.0</td>\n",
       "      <td>0</td>\n",
       "      <td>1</td>\n",
       "      <td>0</td>\n",
       "      <td>0</td>\n",
       "      <td>0</td>\n",
       "      <td>0</td>\n",
       "      <td>0</td>\n",
       "      <td>...</td>\n",
       "      <td>0</td>\n",
       "      <td>0</td>\n",
       "      <td>0</td>\n",
       "      <td>0</td>\n",
       "      <td>0</td>\n",
       "      <td>0</td>\n",
       "      <td>0</td>\n",
       "      <td>0</td>\n",
       "      <td>0</td>\n",
       "      <td>0</td>\n",
       "    </tr>\n",
       "    <tr>\n",
       "      <th>2</th>\n",
       "      <td>125</td>\n",
       "      <td>3</td>\n",
       "      <td>95.0</td>\n",
       "      <td>1</td>\n",
       "      <td>0</td>\n",
       "      <td>0</td>\n",
       "      <td>0</td>\n",
       "      <td>0</td>\n",
       "      <td>0</td>\n",
       "      <td>0</td>\n",
       "      <td>...</td>\n",
       "      <td>0</td>\n",
       "      <td>0</td>\n",
       "      <td>0</td>\n",
       "      <td>0</td>\n",
       "      <td>0</td>\n",
       "      <td>0</td>\n",
       "      <td>0</td>\n",
       "      <td>0</td>\n",
       "      <td>0</td>\n",
       "      <td>0</td>\n",
       "    </tr>\n",
       "    <tr>\n",
       "      <th>5</th>\n",
       "      <td>69</td>\n",
       "      <td>4</td>\n",
       "      <td>97.0</td>\n",
       "      <td>0</td>\n",
       "      <td>1</td>\n",
       "      <td>0</td>\n",
       "      <td>0</td>\n",
       "      <td>0</td>\n",
       "      <td>0</td>\n",
       "      <td>0</td>\n",
       "      <td>...</td>\n",
       "      <td>0</td>\n",
       "      <td>0</td>\n",
       "      <td>0</td>\n",
       "      <td>0</td>\n",
       "      <td>0</td>\n",
       "      <td>0</td>\n",
       "      <td>0</td>\n",
       "      <td>0</td>\n",
       "      <td>0</td>\n",
       "      <td>0</td>\n",
       "    </tr>\n",
       "    <tr>\n",
       "      <th>6</th>\n",
       "      <td>150</td>\n",
       "      <td>7</td>\n",
       "      <td>100.0</td>\n",
       "      <td>1</td>\n",
       "      <td>0</td>\n",
       "      <td>0</td>\n",
       "      <td>0</td>\n",
       "      <td>0</td>\n",
       "      <td>0</td>\n",
       "      <td>0</td>\n",
       "      <td>...</td>\n",
       "      <td>0</td>\n",
       "      <td>0</td>\n",
       "      <td>0</td>\n",
       "      <td>0</td>\n",
       "      <td>0</td>\n",
       "      <td>0</td>\n",
       "      <td>0</td>\n",
       "      <td>0</td>\n",
       "      <td>0</td>\n",
       "      <td>0</td>\n",
       "    </tr>\n",
       "    <tr>\n",
       "      <th>7</th>\n",
       "      <td>101</td>\n",
       "      <td>2</td>\n",
       "      <td>100.0</td>\n",
       "      <td>0</td>\n",
       "      <td>1</td>\n",
       "      <td>0</td>\n",
       "      <td>0</td>\n",
       "      <td>0</td>\n",
       "      <td>0</td>\n",
       "      <td>0</td>\n",
       "      <td>...</td>\n",
       "      <td>0</td>\n",
       "      <td>0</td>\n",
       "      <td>0</td>\n",
       "      <td>0</td>\n",
       "      <td>0</td>\n",
       "      <td>0</td>\n",
       "      <td>0</td>\n",
       "      <td>0</td>\n",
       "      <td>0</td>\n",
       "      <td>0</td>\n",
       "    </tr>\n",
       "  </tbody>\n",
       "</table>\n",
       "<p>5 rows × 217 columns</p>\n",
       "</div>"
      ],
      "text/plain": [
       "   price  accommodates  review_scores_rating  Entire home/apt  Private room  \\\n",
       "1     50             2                 100.0                0             1   \n",
       "2    125             3                  95.0                1             0   \n",
       "5     69             4                  97.0                0             1   \n",
       "6    150             7                 100.0                1             0   \n",
       "7    101             2                 100.0                0             1   \n",
       "\n",
       "   Shared room  Allerton  Arden Heights  Arrochar  Arverne  ...  West Village  \\\n",
       "1            0         0              0         0        0  ...             0   \n",
       "2            0         0              0         0        0  ...             0   \n",
       "5            0         0              0         0        0  ...             0   \n",
       "6            0         0              0         0        0  ...             0   \n",
       "7            0         0              0         0        0  ...             0   \n",
       "\n",
       "   Westchester Square  Whitestone  Williamsbridge  Williamsburg  \\\n",
       "1                   0           0               0             0   \n",
       "2                   0           0               0             0   \n",
       "5                   0           0               0             0   \n",
       "6                   0           0               0             0   \n",
       "7                   0           0               0             0   \n",
       "\n",
       "   Windsor Terrace  Woodhaven  Woodlawn  Woodrow  Woodside  \n",
       "1                0          0         0        0         0  \n",
       "2                0          0         0        0         0  \n",
       "5                0          0         0        0         0  \n",
       "6                0          0         0        0         0  \n",
       "7                0          0         0        0         0  \n",
       "\n",
       "[5 rows x 217 columns]"
      ]
     },
     "execution_count": 60,
     "metadata": {},
     "output_type": "execute_result"
    }
   ],
   "source": [
    "new_data.head()"
   ]
  },
  {
   "cell_type": "code",
   "execution_count": 61,
   "metadata": {},
   "outputs": [
    {
     "data": {
      "text/html": [
       "<div>\n",
       "<style scoped>\n",
       "    .dataframe tbody tr th:only-of-type {\n",
       "        vertical-align: middle;\n",
       "    }\n",
       "\n",
       "    .dataframe tbody tr th {\n",
       "        vertical-align: top;\n",
       "    }\n",
       "\n",
       "    .dataframe thead th {\n",
       "        text-align: right;\n",
       "    }\n",
       "</style>\n",
       "<table border=\"1\" class=\"dataframe\">\n",
       "  <thead>\n",
       "    <tr style=\"text-align: right;\">\n",
       "      <th></th>\n",
       "      <th>price</th>\n",
       "      <th>room_type</th>\n",
       "      <th>accommodates</th>\n",
       "      <th>review_scores_rating</th>\n",
       "      <th>neighbourhood_cleansed</th>\n",
       "    </tr>\n",
       "  </thead>\n",
       "  <tbody>\n",
       "    <tr>\n",
       "      <th>1</th>\n",
       "      <td>50.0</td>\n",
       "      <td>2.0</td>\n",
       "      <td>100.0</td>\n",
       "      <td>0.0</td>\n",
       "      <td>33.0</td>\n",
       "    </tr>\n",
       "    <tr>\n",
       "      <th>2</th>\n",
       "      <td>125.0</td>\n",
       "      <td>3.0</td>\n",
       "      <td>95.0</td>\n",
       "      <td>1.0</td>\n",
       "      <td>33.0</td>\n",
       "    </tr>\n",
       "    <tr>\n",
       "      <th>5</th>\n",
       "      <td>69.0</td>\n",
       "      <td>4.0</td>\n",
       "      <td>97.0</td>\n",
       "      <td>0.0</td>\n",
       "      <td>33.0</td>\n",
       "    </tr>\n",
       "    <tr>\n",
       "      <th>6</th>\n",
       "      <td>150.0</td>\n",
       "      <td>7.0</td>\n",
       "      <td>100.0</td>\n",
       "      <td>0.0</td>\n",
       "      <td>33.0</td>\n",
       "    </tr>\n",
       "    <tr>\n",
       "      <th>7</th>\n",
       "      <td>101.0</td>\n",
       "      <td>2.0</td>\n",
       "      <td>100.0</td>\n",
       "      <td>0.0</td>\n",
       "      <td>33.0</td>\n",
       "    </tr>\n",
       "  </tbody>\n",
       "</table>\n",
       "</div>"
      ],
      "text/plain": [
       "   price  room_type  accommodates  review_scores_rating  \\\n",
       "1   50.0        2.0         100.0                   0.0   \n",
       "2  125.0        3.0          95.0                   1.0   \n",
       "5   69.0        4.0          97.0                   0.0   \n",
       "6  150.0        7.0         100.0                   0.0   \n",
       "7  101.0        2.0         100.0                   0.0   \n",
       "\n",
       "   neighbourhood_cleansed  \n",
       "1                    33.0  \n",
       "2                    33.0  \n",
       "5                    33.0  \n",
       "6                    33.0  \n",
       "7                    33.0  "
      ]
     },
     "execution_count": 61,
     "metadata": {},
     "output_type": "execute_result"
    }
   ],
   "source": [
    "le_data.head()"
   ]
  },
  {
   "cell_type": "code",
   "execution_count": 62,
   "metadata": {},
   "outputs": [],
   "source": [
    "y = new_data['price']\n",
    "X = new_data.drop(['price'],axis=1)"
   ]
  },
  {
   "cell_type": "code",
   "execution_count": 63,
   "metadata": {},
   "outputs": [],
   "source": [
    "X_std = StandardScaler().fit_transform(X)"
   ]
  },
  {
   "cell_type": "code",
   "execution_count": 64,
   "metadata": {},
   "outputs": [],
   "source": [
    "pca = PCA(n_components = 30)"
   ]
  },
  {
   "cell_type": "code",
   "execution_count": 65,
   "metadata": {},
   "outputs": [
    {
     "data": {
      "text/plain": [
       "PCA(copy=True, iterated_power='auto', n_components=30, random_state=None,\n",
       "    svd_solver='auto', tol=0.0, whiten=False)"
      ]
     },
     "execution_count": 65,
     "metadata": {},
     "output_type": "execute_result"
    }
   ],
   "source": [
    "pca.fit(X_std)"
   ]
  },
  {
   "cell_type": "code",
   "execution_count": 66,
   "metadata": {},
   "outputs": [
    {
     "name": "stdout",
     "output_type": "stream",
     "text": [
      "Components:\n",
      "  [[ 4.25327140e-01  3.17179062e-02  6.11043113e-01 ... -0.00000000e+00\n",
      "   9.75254419e-03 -0.00000000e+00]\n",
      " [-4.55374890e-02 -1.41597021e-01 -3.22370662e-02 ... -0.00000000e+00\n",
      "   2.60897030e-02 -0.00000000e+00]\n",
      " [ 1.72727693e-01 -3.53297478e-01 -1.61115512e-02 ...  0.00000000e+00\n",
      "   2.72045056e-02  0.00000000e+00]\n",
      " ...\n",
      " [ 7.97863969e-03  9.07295871e-03  3.25350070e-04 ...  0.00000000e+00\n",
      "  -2.30961932e-02  0.00000000e+00]\n",
      " [-6.82003061e-03  8.73300234e-03  3.35957413e-04 ...  0.00000000e+00\n",
      "   5.72804605e-02  0.00000000e+00]\n",
      " [-2.55825952e-03 -9.13144696e-03 -8.37771334e-04 ...  0.00000000e+00\n",
      "  -3.87374400e-02  0.00000000e+00]]\n",
      "Explained Variance Ratio:\n",
      "  [0.01258214 0.00568955 0.00552495 0.00538548 0.00535609 0.00533335\n",
      " 0.00530482 0.00527425 0.00524372 0.00523186 0.00522604 0.00522426\n",
      " 0.00522079 0.00521636 0.00521389 0.00520778 0.00520583 0.00520222\n",
      " 0.00520156 0.00520085 0.00519853 0.00519799 0.00519729 0.00519524\n",
      " 0.00519486 0.00519293 0.00519194 0.00519155 0.00519085 0.00518999]\n"
     ]
    }
   ],
   "source": [
    "print('Components:\\n ', pca.components_)\n",
    "print('Explained Variance Ratio:\\n ', pca.explained_variance_ratio_)"
   ]
  },
  {
   "cell_type": "code",
   "execution_count": 68,
   "metadata": {},
   "outputs": [
    {
     "data": {
      "image/png": "[encoded data removed]",
      "text/plain": [
       "<Figure size 432x288 with 1 Axes>"
      ]
     },
     "metadata": {
      "needs_background": "light"
     },
     "output_type": "display_data"
    }
   ],
   "source": [
    "#plot explained variance \n",
    "plt.bar(range(pca.explained_variance_ratio_.shape[0]), pca.explained_variance_ratio_, alpha = 0.5, \n",
    "        align = 'center', label = 'individual explained variance')\n",
    "plt.ylabel('Explained variance ratio')\n",
    "plt.xlabel('Principal components')\n",
    "plt.ylim(0, 0.02)\n",
    "plt.legend(loc = 'best')\n",
    "plt.tight_layout()"
   ]
  },
  {
   "cell_type": "code",
   "execution_count": null,
   "metadata": {},
   "outputs": [],
   "source": []
  }
 ],
 "metadata": {
  "kernelspec": {
   "display_name": "Python 3",
   "language": "python",
   "name": "python3"
  },
  "language_info": {
   "codemirror_mode": {
    "name": "ipython",
    "version": 3
   },
   "file_extension": ".py",
   "mimetype": "text/x-python",
   "name": "python",
   "nbconvert_exporter": "python",
   "pygments_lexer": "ipython3",
   "version": "3.7.4"
  }
 },
 "nbformat": 4,
 "nbformat_minor": 2
}
