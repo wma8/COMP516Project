{
 "cells": [
  {
   "cell_type": "code",
   "execution_count": 3,
   "metadata": {},
   "outputs": [],
   "source": [
    "import collections\n",
    "import numpy as np\n",
    "import pandas as pd\n",
    "import seaborn as sns\n",
    "import matplotlib.pyplot as plt\n",
    "from sklearn.decomposition import PCA\n",
    "from sklearn.preprocessing import LabelEncoder\n",
    "from sklearn.preprocessing import StandardScaler"
   ]
  },
  {
   "cell_type": "code",
   "execution_count": 4,
   "metadata": {},
   "outputs": [],
   "source": [
    "# read in data\n",
    "data = pd.read_csv('NewYork.csv')"
   ]
  },
  {
   "cell_type": "code",
   "execution_count": 5,
   "metadata": {},
   "outputs": [
    {
     "data": {
      "text/html": [
       "<div>\n",
       "<style scoped>\n",
       "    .dataframe tbody tr th:only-of-type {\n",
       "        vertical-align: middle;\n",
       "    }\n",
       "\n",
       "    .dataframe tbody tr th {\n",
       "        vertical-align: top;\n",
       "    }\n",
       "\n",
       "    .dataframe thead th {\n",
       "        text-align: right;\n",
       "    }\n",
       "</style>\n",
       "<table border=\"1\" class=\"dataframe\">\n",
       "  <thead>\n",
       "    <tr style=\"text-align: right;\">\n",
       "      <th></th>\n",
       "      <th>id</th>\n",
       "      <th>latitude</th>\n",
       "      <th>longitude</th>\n",
       "      <th>accommodates</th>\n",
       "      <th>bathrooms</th>\n",
       "      <th>bedrooms</th>\n",
       "      <th>beds</th>\n",
       "      <th>square_feet</th>\n",
       "      <th>price</th>\n",
       "      <th>guests_included</th>\n",
       "      <th>minimum_nights</th>\n",
       "      <th>maximum_nights</th>\n",
       "      <th>availability_30</th>\n",
       "      <th>number_of_reviews</th>\n",
       "      <th>review_scores_rating</th>\n",
       "      <th>reviews_per_month</th>\n",
       "    </tr>\n",
       "  </thead>\n",
       "  <tbody>\n",
       "    <tr>\n",
       "      <td>count</td>\n",
       "      <td>4.431700e+04</td>\n",
       "      <td>44317.000000</td>\n",
       "      <td>44317.000000</td>\n",
       "      <td>44317.000000</td>\n",
       "      <td>44173.000000</td>\n",
       "      <td>44244.000000</td>\n",
       "      <td>44226.000000</td>\n",
       "      <td>549.000000</td>\n",
       "      <td>44317.000000</td>\n",
       "      <td>44317.000000</td>\n",
       "      <td>44317.000000</td>\n",
       "      <td>4.431700e+04</td>\n",
       "      <td>44317.000000</td>\n",
       "      <td>44317.000000</td>\n",
       "      <td>34218.000000</td>\n",
       "      <td>34843.000000</td>\n",
       "    </tr>\n",
       "    <tr>\n",
       "      <td>mean</td>\n",
       "      <td>1.149792e+07</td>\n",
       "      <td>40.730049</td>\n",
       "      <td>-73.954700</td>\n",
       "      <td>2.813255</td>\n",
       "      <td>1.132739</td>\n",
       "      <td>1.158892</td>\n",
       "      <td>1.555895</td>\n",
       "      <td>727.732240</td>\n",
       "      <td>147.675948</td>\n",
       "      <td>1.482388</td>\n",
       "      <td>4.008665</td>\n",
       "      <td>6.421371e+04</td>\n",
       "      <td>5.904484</td>\n",
       "      <td>18.145836</td>\n",
       "      <td>93.487492</td>\n",
       "      <td>1.446368</td>\n",
       "    </tr>\n",
       "    <tr>\n",
       "      <td>std</td>\n",
       "      <td>6.494719e+06</td>\n",
       "      <td>0.053905</td>\n",
       "      <td>0.042382</td>\n",
       "      <td>1.853114</td>\n",
       "      <td>0.412206</td>\n",
       "      <td>0.721120</td>\n",
       "      <td>1.071849</td>\n",
       "      <td>633.253518</td>\n",
       "      <td>209.138888</td>\n",
       "      <td>1.090597</td>\n",
       "      <td>12.574811</td>\n",
       "      <td>1.049199e+07</td>\n",
       "      <td>9.099126</td>\n",
       "      <td>33.066623</td>\n",
       "      <td>8.209607</td>\n",
       "      <td>1.638707</td>\n",
       "    </tr>\n",
       "    <tr>\n",
       "      <td>min</td>\n",
       "      <td>2.515000e+03</td>\n",
       "      <td>40.499794</td>\n",
       "      <td>-74.253269</td>\n",
       "      <td>1.000000</td>\n",
       "      <td>0.000000</td>\n",
       "      <td>0.000000</td>\n",
       "      <td>0.000000</td>\n",
       "      <td>0.000000</td>\n",
       "      <td>0.000000</td>\n",
       "      <td>1.000000</td>\n",
       "      <td>1.000000</td>\n",
       "      <td>1.000000e+00</td>\n",
       "      <td>0.000000</td>\n",
       "      <td>0.000000</td>\n",
       "      <td>20.000000</td>\n",
       "      <td>0.010000</td>\n",
       "    </tr>\n",
       "    <tr>\n",
       "      <td>25%</td>\n",
       "      <td>6.029332e+06</td>\n",
       "      <td>40.691219</td>\n",
       "      <td>-73.983490</td>\n",
       "      <td>2.000000</td>\n",
       "      <td>1.000000</td>\n",
       "      <td>1.000000</td>\n",
       "      <td>1.000000</td>\n",
       "      <td>325.000000</td>\n",
       "      <td>70.000000</td>\n",
       "      <td>1.000000</td>\n",
       "      <td>1.000000</td>\n",
       "      <td>2.900000e+01</td>\n",
       "      <td>0.000000</td>\n",
       "      <td>1.000000</td>\n",
       "      <td>90.000000</td>\n",
       "      <td>0.270000</td>\n",
       "    </tr>\n",
       "    <tr>\n",
       "      <td>50%</td>\n",
       "      <td>1.226806e+07</td>\n",
       "      <td>40.723624</td>\n",
       "      <td>-73.956728</td>\n",
       "      <td>2.000000</td>\n",
       "      <td>1.000000</td>\n",
       "      <td>1.000000</td>\n",
       "      <td>1.000000</td>\n",
       "      <td>700.000000</td>\n",
       "      <td>105.000000</td>\n",
       "      <td>1.000000</td>\n",
       "      <td>2.000000</td>\n",
       "      <td>1.125000e+03</td>\n",
       "      <td>0.000000</td>\n",
       "      <td>5.000000</td>\n",
       "      <td>96.000000</td>\n",
       "      <td>0.870000</td>\n",
       "    </tr>\n",
       "    <tr>\n",
       "      <td>75%</td>\n",
       "      <td>1.736896e+07</td>\n",
       "      <td>40.764029</td>\n",
       "      <td>-73.939366</td>\n",
       "      <td>4.000000</td>\n",
       "      <td>1.000000</td>\n",
       "      <td>1.000000</td>\n",
       "      <td>2.000000</td>\n",
       "      <td>925.000000</td>\n",
       "      <td>175.000000</td>\n",
       "      <td>2.000000</td>\n",
       "      <td>4.000000</td>\n",
       "      <td>1.125000e+03</td>\n",
       "      <td>9.000000</td>\n",
       "      <td>20.000000</td>\n",
       "      <td>100.000000</td>\n",
       "      <td>2.100000</td>\n",
       "    </tr>\n",
       "    <tr>\n",
       "      <td>max</td>\n",
       "      <td>2.117803e+07</td>\n",
       "      <td>40.909174</td>\n",
       "      <td>-73.710126</td>\n",
       "      <td>16.000000</td>\n",
       "      <td>15.500000</td>\n",
       "      <td>14.000000</td>\n",
       "      <td>40.000000</td>\n",
       "      <td>5000.000000</td>\n",
       "      <td>10000.000000</td>\n",
       "      <td>16.000000</td>\n",
       "      <td>1250.000000</td>\n",
       "      <td>2.147484e+09</td>\n",
       "      <td>30.000000</td>\n",
       "      <td>489.000000</td>\n",
       "      <td>100.000000</td>\n",
       "      <td>24.530000</td>\n",
       "    </tr>\n",
       "  </tbody>\n",
       "</table>\n",
       "</div>"
      ],
      "text/plain": [
       "                 id      latitude     longitude  accommodates     bathrooms  \\\n",
       "count  4.431700e+04  44317.000000  44317.000000  44317.000000  44173.000000   \n",
       "mean   1.149792e+07     40.730049    -73.954700      2.813255      1.132739   \n",
       "std    6.494719e+06      0.053905      0.042382      1.853114      0.412206   \n",
       "min    2.515000e+03     40.499794    -74.253269      1.000000      0.000000   \n",
       "25%    6.029332e+06     40.691219    -73.983490      2.000000      1.000000   \n",
       "50%    1.226806e+07     40.723624    -73.956728      2.000000      1.000000   \n",
       "75%    1.736896e+07     40.764029    -73.939366      4.000000      1.000000   \n",
       "max    2.117803e+07     40.909174    -73.710126     16.000000     15.500000   \n",
       "\n",
       "           bedrooms          beds  square_feet         price  guests_included  \\\n",
       "count  44244.000000  44226.000000   549.000000  44317.000000     44317.000000   \n",
       "mean       1.158892      1.555895   727.732240    147.675948         1.482388   \n",
       "std        0.721120      1.071849   633.253518    209.138888         1.090597   \n",
       "min        0.000000      0.000000     0.000000      0.000000         1.000000   \n",
       "25%        1.000000      1.000000   325.000000     70.000000         1.000000   \n",
       "50%        1.000000      1.000000   700.000000    105.000000         1.000000   \n",
       "75%        1.000000      2.000000   925.000000    175.000000         2.000000   \n",
       "max       14.000000     40.000000  5000.000000  10000.000000        16.000000   \n",
       "\n",
       "       minimum_nights  maximum_nights  availability_30  number_of_reviews  \\\n",
       "count    44317.000000    4.431700e+04     44317.000000       44317.000000   \n",
       "mean         4.008665    6.421371e+04         5.904484          18.145836   \n",
       "std         12.574811    1.049199e+07         9.099126          33.066623   \n",
       "min          1.000000    1.000000e+00         0.000000           0.000000   \n",
       "25%          1.000000    2.900000e+01         0.000000           1.000000   \n",
       "50%          2.000000    1.125000e+03         0.000000           5.000000   \n",
       "75%          4.000000    1.125000e+03         9.000000          20.000000   \n",
       "max       1250.000000    2.147484e+09        30.000000         489.000000   \n",
       "\n",
       "       review_scores_rating  reviews_per_month  \n",
       "count          34218.000000       34843.000000  \n",
       "mean              93.487492           1.446368  \n",
       "std                8.209607           1.638707  \n",
       "min               20.000000           0.010000  \n",
       "25%               90.000000           0.270000  \n",
       "50%               96.000000           0.870000  \n",
       "75%              100.000000           2.100000  \n",
       "max              100.000000          24.530000  "
      ]
     },
     "execution_count": 5,
     "metadata": {},
     "output_type": "execute_result"
    }
   ],
   "source": [
    "# Describe the data\n",
    "data.describe()\n",
    "# print(list(data.columns))"
   ]
  },
  {
   "cell_type": "markdown",
   "metadata": {},
   "source": [
    "# Data cleansing"
   ]
  },
  {
   "cell_type": "code",
   "execution_count": 6,
   "metadata": {},
   "outputs": [
    {
     "data": {
      "text/plain": [
       "(-1.1019296620684242,\n",
       " 1.1089713385687547,\n",
       " -1.1215025656294224,\n",
       " 1.1010239316966393)"
      ]
     },
     "execution_count": 6,
     "metadata": {},
     "output_type": "execute_result"
    },
    {
     "data": {
      "image/png": "[encoded data removed]",
      "text/plain": [
       "<Figure size 432x288 with 1 Axes>"
      ]
     },
     "metadata": {},
     "output_type": "display_data"
    }
   ],
   "source": [
    "# pie\n",
    "tmp  = data['review_scores_rating']\n",
    "not_nan = tmp[tmp>0]\n",
    "labels = 'terrible','fine','good','excellent'\n",
    "terrible = len(tmp[tmp<=80])  # rate<=80\n",
    "fine = len(tmp[tmp<=90])-terrible # 80 < rate <= 90\n",
    "good = len(tmp[tmp<100]) - terrible - fine # 95 < rate < 100\n",
    "excellent = len(tmp[tmp==100]) # rate = 100\n",
    "sizes = [terrible, fine, good, excellent]\n",
    "cmap = plt.get_cmap(\"tab20c\")\n",
    "colors = cmap(np.array([2, 1,6,10]))\n",
    "fig1, ax1 = plt.subplots()\n",
    "ax1.pie(sizes,  labels=labels, autopct = '%1.1f%%',shadow=False, startangle = 90,colors = colors)\n",
    "ax1.axis('equal')"
   ]
  },
  {
   "cell_type": "code",
   "execution_count": 7,
   "metadata": {},
   "outputs": [
    {
     "data": {
      "text/html": [
       "<div>\n",
       "<style scoped>\n",
       "    .dataframe tbody tr th:only-of-type {\n",
       "        vertical-align: middle;\n",
       "    }\n",
       "\n",
       "    .dataframe tbody tr th {\n",
       "        vertical-align: top;\n",
       "    }\n",
       "\n",
       "    .dataframe thead th {\n",
       "        text-align: right;\n",
       "    }\n",
       "</style>\n",
       "<table border=\"1\" class=\"dataframe\">\n",
       "  <thead>\n",
       "    <tr style=\"text-align: right;\">\n",
       "      <th></th>\n",
       "      <th>id</th>\n",
       "      <th>host_response_time</th>\n",
       "      <th>host_response_rate</th>\n",
       "      <th>host_is_superhost</th>\n",
       "      <th>host_has_profile_pic</th>\n",
       "      <th>neighbourhood_cleansed</th>\n",
       "      <th>latitude</th>\n",
       "      <th>longitude</th>\n",
       "      <th>is_location_exact</th>\n",
       "      <th>property_type</th>\n",
       "      <th>...</th>\n",
       "      <th>maximum_nights</th>\n",
       "      <th>calendar_updated</th>\n",
       "      <th>availability_30</th>\n",
       "      <th>number_of_reviews</th>\n",
       "      <th>review_scores_rating</th>\n",
       "      <th>instant_bookable</th>\n",
       "      <th>is_business_travel_ready</th>\n",
       "      <th>cancellation_policy</th>\n",
       "      <th>require_guest_profile_picture</th>\n",
       "      <th>reviews_per_month</th>\n",
       "    </tr>\n",
       "  </thead>\n",
       "  <tbody>\n",
       "    <tr>\n",
       "      <td>0</td>\n",
       "      <td>18461891</td>\n",
       "      <td>NaN</td>\n",
       "      <td>NaN</td>\n",
       "      <td>f</td>\n",
       "      <td>t</td>\n",
       "      <td>Ditmars Steinway</td>\n",
       "      <td>40.774142</td>\n",
       "      <td>-73.916246</td>\n",
       "      <td>t</td>\n",
       "      <td>Apartment</td>\n",
       "      <td>...</td>\n",
       "      <td>6</td>\n",
       "      <td>5 months ago</td>\n",
       "      <td>0</td>\n",
       "      <td>0</td>\n",
       "      <td>NaN</td>\n",
       "      <td>f</td>\n",
       "      <td>f</td>\n",
       "      <td>strict</td>\n",
       "      <td>f</td>\n",
       "      <td>NaN</td>\n",
       "    </tr>\n",
       "    <tr>\n",
       "      <td>1</td>\n",
       "      <td>20702398</td>\n",
       "      <td>within an hour</td>\n",
       "      <td>100%</td>\n",
       "      <td>f</td>\n",
       "      <td>t</td>\n",
       "      <td>City Island</td>\n",
       "      <td>40.849191</td>\n",
       "      <td>-73.786509</td>\n",
       "      <td>f</td>\n",
       "      <td>House</td>\n",
       "      <td>...</td>\n",
       "      <td>21</td>\n",
       "      <td>2 weeks ago</td>\n",
       "      <td>19</td>\n",
       "      <td>2</td>\n",
       "      <td>100.0</td>\n",
       "      <td>f</td>\n",
       "      <td>f</td>\n",
       "      <td>moderate</td>\n",
       "      <td>f</td>\n",
       "      <td>2.00</td>\n",
       "    </tr>\n",
       "    <tr>\n",
       "      <td>2</td>\n",
       "      <td>6627449</td>\n",
       "      <td>within an hour</td>\n",
       "      <td>100%</td>\n",
       "      <td>f</td>\n",
       "      <td>t</td>\n",
       "      <td>City Island</td>\n",
       "      <td>40.849775</td>\n",
       "      <td>-73.786609</td>\n",
       "      <td>t</td>\n",
       "      <td>Apartment</td>\n",
       "      <td>...</td>\n",
       "      <td>21</td>\n",
       "      <td>2 weeks ago</td>\n",
       "      <td>28</td>\n",
       "      <td>21</td>\n",
       "      <td>95.0</td>\n",
       "      <td>f</td>\n",
       "      <td>f</td>\n",
       "      <td>strict</td>\n",
       "      <td>f</td>\n",
       "      <td>0.77</td>\n",
       "    </tr>\n",
       "    <tr>\n",
       "      <td>3</td>\n",
       "      <td>19949243</td>\n",
       "      <td>within a few hours</td>\n",
       "      <td>100%</td>\n",
       "      <td>f</td>\n",
       "      <td>t</td>\n",
       "      <td>City Island</td>\n",
       "      <td>40.848838</td>\n",
       "      <td>-73.782276</td>\n",
       "      <td>f</td>\n",
       "      <td>Boat</td>\n",
       "      <td>...</td>\n",
       "      <td>1125</td>\n",
       "      <td>6 days ago</td>\n",
       "      <td>30</td>\n",
       "      <td>0</td>\n",
       "      <td>NaN</td>\n",
       "      <td>t</td>\n",
       "      <td>f</td>\n",
       "      <td>strict</td>\n",
       "      <td>f</td>\n",
       "      <td>NaN</td>\n",
       "    </tr>\n",
       "    <tr>\n",
       "      <td>4</td>\n",
       "      <td>1886820</td>\n",
       "      <td>NaN</td>\n",
       "      <td>NaN</td>\n",
       "      <td>f</td>\n",
       "      <td>t</td>\n",
       "      <td>City Island</td>\n",
       "      <td>40.841144</td>\n",
       "      <td>-73.783052</td>\n",
       "      <td>t</td>\n",
       "      <td>House</td>\n",
       "      <td>...</td>\n",
       "      <td>90</td>\n",
       "      <td>16 months ago</td>\n",
       "      <td>30</td>\n",
       "      <td>0</td>\n",
       "      <td>NaN</td>\n",
       "      <td>f</td>\n",
       "      <td>f</td>\n",
       "      <td>strict</td>\n",
       "      <td>f</td>\n",
       "      <td>NaN</td>\n",
       "    </tr>\n",
       "    <tr>\n",
       "      <td>...</td>\n",
       "      <td>...</td>\n",
       "      <td>...</td>\n",
       "      <td>...</td>\n",
       "      <td>...</td>\n",
       "      <td>...</td>\n",
       "      <td>...</td>\n",
       "      <td>...</td>\n",
       "      <td>...</td>\n",
       "      <td>...</td>\n",
       "      <td>...</td>\n",
       "      <td>...</td>\n",
       "      <td>...</td>\n",
       "      <td>...</td>\n",
       "      <td>...</td>\n",
       "      <td>...</td>\n",
       "      <td>...</td>\n",
       "      <td>...</td>\n",
       "      <td>...</td>\n",
       "      <td>...</td>\n",
       "      <td>...</td>\n",
       "      <td>...</td>\n",
       "    </tr>\n",
       "    <tr>\n",
       "      <td>44312</td>\n",
       "      <td>20530309</td>\n",
       "      <td>within an hour</td>\n",
       "      <td>90%</td>\n",
       "      <td>f</td>\n",
       "      <td>t</td>\n",
       "      <td>Flatlands</td>\n",
       "      <td>40.618675</td>\n",
       "      <td>-73.932736</td>\n",
       "      <td>f</td>\n",
       "      <td>Apartment</td>\n",
       "      <td>...</td>\n",
       "      <td>1125</td>\n",
       "      <td>2 weeks ago</td>\n",
       "      <td>30</td>\n",
       "      <td>1</td>\n",
       "      <td>100.0</td>\n",
       "      <td>t</td>\n",
       "      <td>f</td>\n",
       "      <td>flexible</td>\n",
       "      <td>f</td>\n",
       "      <td>0.81</td>\n",
       "    </tr>\n",
       "    <tr>\n",
       "      <td>44313</td>\n",
       "      <td>20459907</td>\n",
       "      <td>within a few hours</td>\n",
       "      <td>100%</td>\n",
       "      <td>f</td>\n",
       "      <td>t</td>\n",
       "      <td>Bushwick</td>\n",
       "      <td>40.684681</td>\n",
       "      <td>-73.905174</td>\n",
       "      <td>t</td>\n",
       "      <td>Apartment</td>\n",
       "      <td>...</td>\n",
       "      <td>30</td>\n",
       "      <td>2 weeks ago</td>\n",
       "      <td>4</td>\n",
       "      <td>0</td>\n",
       "      <td>NaN</td>\n",
       "      <td>t</td>\n",
       "      <td>f</td>\n",
       "      <td>strict</td>\n",
       "      <td>f</td>\n",
       "      <td>NaN</td>\n",
       "    </tr>\n",
       "    <tr>\n",
       "      <td>44314</td>\n",
       "      <td>4287386</td>\n",
       "      <td>within an hour</td>\n",
       "      <td>100%</td>\n",
       "      <td>f</td>\n",
       "      <td>t</td>\n",
       "      <td>Rockaway Beach</td>\n",
       "      <td>40.583865</td>\n",
       "      <td>-73.819245</td>\n",
       "      <td>f</td>\n",
       "      <td>Apartment</td>\n",
       "      <td>...</td>\n",
       "      <td>60</td>\n",
       "      <td>2 weeks ago</td>\n",
       "      <td>1</td>\n",
       "      <td>6</td>\n",
       "      <td>87.0</td>\n",
       "      <td>f</td>\n",
       "      <td>f</td>\n",
       "      <td>moderate</td>\n",
       "      <td>f</td>\n",
       "      <td>3.91</td>\n",
       "    </tr>\n",
       "    <tr>\n",
       "      <td>44315</td>\n",
       "      <td>20939747</td>\n",
       "      <td>within an hour</td>\n",
       "      <td>100%</td>\n",
       "      <td>f</td>\n",
       "      <td>t</td>\n",
       "      <td>Rosedale</td>\n",
       "      <td>40.679998</td>\n",
       "      <td>-73.720787</td>\n",
       "      <td>f</td>\n",
       "      <td>Apartment</td>\n",
       "      <td>...</td>\n",
       "      <td>1125</td>\n",
       "      <td>a week ago</td>\n",
       "      <td>7</td>\n",
       "      <td>0</td>\n",
       "      <td>NaN</td>\n",
       "      <td>f</td>\n",
       "      <td>f</td>\n",
       "      <td>strict</td>\n",
       "      <td>f</td>\n",
       "      <td>NaN</td>\n",
       "    </tr>\n",
       "    <tr>\n",
       "      <td>44316</td>\n",
       "      <td>21135710</td>\n",
       "      <td>NaN</td>\n",
       "      <td>NaN</td>\n",
       "      <td>f</td>\n",
       "      <td>t</td>\n",
       "      <td>Upper West Side</td>\n",
       "      <td>40.776465</td>\n",
       "      <td>-73.970659</td>\n",
       "      <td>f</td>\n",
       "      <td>Apartment</td>\n",
       "      <td>...</td>\n",
       "      <td>1125</td>\n",
       "      <td>today</td>\n",
       "      <td>17</td>\n",
       "      <td>0</td>\n",
       "      <td>NaN</td>\n",
       "      <td>f</td>\n",
       "      <td>f</td>\n",
       "      <td>flexible</td>\n",
       "      <td>f</td>\n",
       "      <td>NaN</td>\n",
       "    </tr>\n",
       "  </tbody>\n",
       "</table>\n",
       "<p>44317 rows × 31 columns</p>\n",
       "</div>"
      ],
      "text/plain": [
       "             id  host_response_time host_response_rate host_is_superhost  \\\n",
       "0      18461891                 NaN                NaN                 f   \n",
       "1      20702398      within an hour               100%                 f   \n",
       "2       6627449      within an hour               100%                 f   \n",
       "3      19949243  within a few hours               100%                 f   \n",
       "4       1886820                 NaN                NaN                 f   \n",
       "...         ...                 ...                ...               ...   \n",
       "44312  20530309      within an hour                90%                 f   \n",
       "44313  20459907  within a few hours               100%                 f   \n",
       "44314   4287386      within an hour               100%                 f   \n",
       "44315  20939747      within an hour               100%                 f   \n",
       "44316  21135710                 NaN                NaN                 f   \n",
       "\n",
       "      host_has_profile_pic neighbourhood_cleansed   latitude  longitude  \\\n",
       "0                        t       Ditmars Steinway  40.774142 -73.916246   \n",
       "1                        t            City Island  40.849191 -73.786509   \n",
       "2                        t            City Island  40.849775 -73.786609   \n",
       "3                        t            City Island  40.848838 -73.782276   \n",
       "4                        t            City Island  40.841144 -73.783052   \n",
       "...                    ...                    ...        ...        ...   \n",
       "44312                    t              Flatlands  40.618675 -73.932736   \n",
       "44313                    t               Bushwick  40.684681 -73.905174   \n",
       "44314                    t         Rockaway Beach  40.583865 -73.819245   \n",
       "44315                    t               Rosedale  40.679998 -73.720787   \n",
       "44316                    t        Upper West Side  40.776465 -73.970659   \n",
       "\n",
       "      is_location_exact property_type  ... maximum_nights  calendar_updated  \\\n",
       "0                     t     Apartment  ...              6      5 months ago   \n",
       "1                     f         House  ...             21       2 weeks ago   \n",
       "2                     t     Apartment  ...             21       2 weeks ago   \n",
       "3                     f          Boat  ...           1125        6 days ago   \n",
       "4                     t         House  ...             90     16 months ago   \n",
       "...                 ...           ...  ...            ...               ...   \n",
       "44312                 f     Apartment  ...           1125       2 weeks ago   \n",
       "44313                 t     Apartment  ...             30       2 weeks ago   \n",
       "44314                 f     Apartment  ...             60       2 weeks ago   \n",
       "44315                 f     Apartment  ...           1125        a week ago   \n",
       "44316                 f     Apartment  ...           1125             today   \n",
       "\n",
       "       availability_30  number_of_reviews  review_scores_rating  \\\n",
       "0                    0                  0                   NaN   \n",
       "1                   19                  2                 100.0   \n",
       "2                   28                 21                  95.0   \n",
       "3                   30                  0                   NaN   \n",
       "4                   30                  0                   NaN   \n",
       "...                ...                ...                   ...   \n",
       "44312               30                  1                 100.0   \n",
       "44313                4                  0                   NaN   \n",
       "44314                1                  6                  87.0   \n",
       "44315                7                  0                   NaN   \n",
       "44316               17                  0                   NaN   \n",
       "\n",
       "      instant_bookable is_business_travel_ready  cancellation_policy  \\\n",
       "0                    f                        f               strict   \n",
       "1                    f                        f             moderate   \n",
       "2                    f                        f               strict   \n",
       "3                    t                        f               strict   \n",
       "4                    f                        f               strict   \n",
       "...                ...                      ...                  ...   \n",
       "44312                t                        f             flexible   \n",
       "44313                t                        f               strict   \n",
       "44314                f                        f             moderate   \n",
       "44315                f                        f               strict   \n",
       "44316                f                        f             flexible   \n",
       "\n",
       "       require_guest_profile_picture  reviews_per_month  \n",
       "0                                  f                NaN  \n",
       "1                                  f               2.00  \n",
       "2                                  f               0.77  \n",
       "3                                  f                NaN  \n",
       "4                                  f                NaN  \n",
       "...                              ...                ...  \n",
       "44312                              f               0.81  \n",
       "44313                              f                NaN  \n",
       "44314                              f               3.91  \n",
       "44315                              f                NaN  \n",
       "44316                              f                NaN  \n",
       "\n",
       "[44317 rows x 31 columns]"
      ]
     },
     "execution_count": 7,
     "metadata": {},
     "output_type": "execute_result"
    }
   ],
   "source": [
    "data.keys()\n",
    "data"
   ]
  },
  {
   "cell_type": "code",
   "execution_count": 6,
   "metadata": {
    "scrolled": true
   },
   "outputs": [
    {
     "name": "stdout",
     "output_type": "stream",
     "text": [
      "21837 21837\n"
     ]
    },
    {
     "data": {
      "text/plain": [
       "[<matplotlib.lines.Line2D at 0x2532fdd1e88>]"
      ]
     },
     "execution_count": 6,
     "metadata": {},
     "output_type": "execute_result"
    },
    {
     "data": {
      "image/png": "[encoded data removed]",
      "text/plain": [
       "<Figure size 432x288 with 1 Axes>"
      ]
     },
     "metadata": {
      "needs_background": "light"
     },
     "output_type": "display_data"
    }
   ],
   "source": [
    "regions = collections.Counter(data['neighbourhood_cleansed'])\n",
    "sort_r = sorted(regions.items(), key = lambda x: x[1],reverse = True)[:10]\n",
    "x_plt = []\n",
    "y_plt = []\n",
    "for i in range(len(sort_r)):\n",
    "    price = data['price']\n",
    "    regs = data['neighbourhood_cleansed']\n",
    "    idxs = [regs==sort_r[i]]\n",
    "    s= list(price[regs == sort_r[i][0]])\n",
    "    x_plt += s\n",
    "    y_plt += [sort_r[i][0]]*len(s)\n",
    "\n",
    "print(len(x_plt),len(y_plt))\n",
    "plt.plot(x_plt,y_plt,\".\")"
   ]
  },
  {
   "cell_type": "code",
   "execution_count": 7,
   "metadata": {},
   "outputs": [
    {
     "data": {
      "text/plain": [
       "[<matplotlib.lines.Line2D at 0x2532fdad3c8>]"
      ]
     },
     "execution_count": 7,
     "metadata": {},
     "output_type": "execute_result"
    },
    {
     "data": {
      "image/png": "[encoded data removed]",
      "text/plain": [
       "<Figure size 432x288 with 1 Axes>"
      ]
     },
     "metadata": {
      "needs_background": "light"
     },
     "output_type": "display_data"
    }
   ],
   "source": [
    "beds = data['room_type']\n",
    "price = data['price']\n",
    "plt.plot(price,beds,\".\")"
   ]
  },
  {
   "cell_type": "markdown",
   "metadata": {},
   "source": [
    "# PCA using one HOT encoding"
   ]
  },
  {
   "cell_type": "code",
   "execution_count": 8,
   "metadata": {},
   "outputs": [],
   "source": [
    "new_data = data[['price',\n",
    "           'room_type',\n",
    "           'accommodates',\n",
    "           'review_scores_rating',\n",
    "           'neighbourhood_cleansed']]\n",
    "new_data = new_data[tmp>0]"
   ]
  },
  {
   "cell_type": "code",
   "execution_count": 9,
   "metadata": {},
   "outputs": [],
   "source": [
    "lb_nh = LabelEncoder() # neighbour\n",
    "lb_rt = LabelEncoder()  # room type\n",
    "lb_ac = LabelEncoder() # accommodates\n",
    "lb_rr = LabelEncoder() # review score rating"
   ]
  },
  {
   "cell_type": "code",
   "execution_count": 10,
   "metadata": {},
   "outputs": [],
   "source": [
    "oh_neighborhood = pd.get_dummies(new_data.neighbourhood_cleansed).astype(int)\n",
    "oh_room_type = pd.get_dummies(new_data.room_type).astype(int)\n",
    "oh_accommodates = pd.get_dummies(new_data.accommodates).astype(int)\n",
    "oh_review_scores_rating = pd.get_dummies(new_data.review_scores_rating).astype(int)"
   ]
  },
  {
   "cell_type": "code",
   "execution_count": 11,
   "metadata": {},
   "outputs": [],
   "source": [
    "le_neighborhood = lb_nh.fit_transform(new_data[\"neighbourhood_cleansed\"])\n",
    "le_room_type = lb_rt.fit_transform(new_data['room_type'])\n",
    "le_accommodates =  lb_rt.fit_transform(new_data['accommodates'])\n",
    "le__review_scores_rating =  lb_rt.fit_transform(new_data['review_scores_rating'])"
   ]
  },
  {
   "cell_type": "code",
   "execution_count": 12,
   "metadata": {},
   "outputs": [],
   "source": [
    "new_data = new_data.drop(['room_type','neighbourhood_cleansed','accommodates','review_scores_rating'], axis = 1)\n",
    "le_data = pd.DataFrame(new_data)"
   ]
  },
  {
   "cell_type": "code",
   "execution_count": 13,
   "metadata": {},
   "outputs": [],
   "source": [
    "le_neighborhood = pd.DataFrame(le_neighborhood)\n",
    "le_room_type = pd.DataFrame(le_room_type)\n",
    "le_accommodates = pd.DataFrame(le_accommodates)\n",
    "le__review_scores_rating = pd.DataFrame(le__review_scores_rating)"
   ]
  },
  {
   "cell_type": "code",
   "execution_count": 14,
   "metadata": {},
   "outputs": [],
   "source": [
    "le_data = pd.concat((new_data, le_room_type, le_neighborhood,le_accommodates,le__review_scores_rating), axis = 1)"
   ]
  },
  {
   "cell_type": "code",
   "execution_count": 15,
   "metadata": {},
   "outputs": [
    {
     "name": "stderr",
     "output_type": "stream",
     "text": [
      "C:\\Apps\\anaconda\\lib\\site-packages\\ipykernel_launcher.py:6: UserWarning: Boolean Series key will be reindexed to match DataFrame index.\n",
      "  \n"
     ]
    }
   ],
   "source": [
    "le_data.columns = ['price',\n",
    "           'room_type',\n",
    "           'accommodates',\n",
    "           'review_scores_rating',\n",
    "           'neighbourhood_cleansed']\n",
    "le_data = le_data[tmp>0]"
   ]
  },
  {
   "cell_type": "code",
   "execution_count": 16,
   "metadata": {},
   "outputs": [],
   "source": [
    "new_data = pd.concat((new_data, oh_room_type, oh_neighborhood,oh_accommodates,oh_review_scores_rating), axis = 1)"
   ]
  },
  {
   "cell_type": "code",
   "execution_count": 18,
   "metadata": {},
   "outputs": [],
   "source": [
    "le_data = le_data.dropna(axis=0, how='any')"
   ]
  },
  {
   "cell_type": "code",
   "execution_count": 19,
   "metadata": {},
   "outputs": [],
   "source": [
    "new_data = new_data[:le_data.shape[0]]"
   ]
  },
  {
   "cell_type": "code",
   "execution_count": 25,
   "metadata": {},
   "outputs": [],
   "source": [
    "new_data.head()\n",
    "new_data.to_csv(\"output.csv\")"
   ]
  },
  {
   "cell_type": "code",
   "execution_count": 26,
   "metadata": {},
   "outputs": [
    {
     "data": {
      "text/html": [
       "<div>\n",
       "<style scoped>\n",
       "    .dataframe tbody tr th:only-of-type {\n",
       "        vertical-align: middle;\n",
       "    }\n",
       "\n",
       "    .dataframe tbody tr th {\n",
       "        vertical-align: top;\n",
       "    }\n",
       "\n",
       "    .dataframe thead th {\n",
       "        text-align: right;\n",
       "    }\n",
       "</style>\n",
       "<table border=\"1\" class=\"dataframe\">\n",
       "  <thead>\n",
       "    <tr style=\"text-align: right;\">\n",
       "      <th></th>\n",
       "      <th>price</th>\n",
       "      <th>room_type</th>\n",
       "      <th>accommodates</th>\n",
       "      <th>review_scores_rating</th>\n",
       "      <th>neighbourhood_cleansed</th>\n",
       "    </tr>\n",
       "  </thead>\n",
       "  <tbody>\n",
       "    <tr>\n",
       "      <td>1</td>\n",
       "      <td>50.0</td>\n",
       "      <td>0.0</td>\n",
       "      <td>33.0</td>\n",
       "      <td>2.0</td>\n",
       "      <td>45.0</td>\n",
       "    </tr>\n",
       "    <tr>\n",
       "      <td>2</td>\n",
       "      <td>125.0</td>\n",
       "      <td>1.0</td>\n",
       "      <td>33.0</td>\n",
       "      <td>3.0</td>\n",
       "      <td>47.0</td>\n",
       "    </tr>\n",
       "    <tr>\n",
       "      <td>5</td>\n",
       "      <td>69.0</td>\n",
       "      <td>0.0</td>\n",
       "      <td>33.0</td>\n",
       "      <td>1.0</td>\n",
       "      <td>47.0</td>\n",
       "    </tr>\n",
       "    <tr>\n",
       "      <td>6</td>\n",
       "      <td>150.0</td>\n",
       "      <td>0.0</td>\n",
       "      <td>33.0</td>\n",
       "      <td>1.0</td>\n",
       "      <td>49.0</td>\n",
       "    </tr>\n",
       "    <tr>\n",
       "      <td>7</td>\n",
       "      <td>101.0</td>\n",
       "      <td>0.0</td>\n",
       "      <td>33.0</td>\n",
       "      <td>3.0</td>\n",
       "      <td>37.0</td>\n",
       "    </tr>\n",
       "  </tbody>\n",
       "</table>\n",
       "</div>"
      ],
      "text/plain": [
       "   price  room_type  accommodates  review_scores_rating  \\\n",
       "1   50.0        0.0          33.0                   2.0   \n",
       "2  125.0        1.0          33.0                   3.0   \n",
       "5   69.0        0.0          33.0                   1.0   \n",
       "6  150.0        0.0          33.0                   1.0   \n",
       "7  101.0        0.0          33.0                   3.0   \n",
       "\n",
       "   neighbourhood_cleansed  \n",
       "1                    45.0  \n",
       "2                    47.0  \n",
       "5                    47.0  \n",
       "6                    49.0  \n",
       "7                    37.0  "
      ]
     },
     "execution_count": 26,
     "metadata": {},
     "output_type": "execute_result"
    }
   ],
   "source": [
    "le_data.head()"
   ]
  },
  {
   "cell_type": "code",
   "execution_count": 27,
   "metadata": {},
   "outputs": [],
   "source": [
    "y = new_data['price']\n",
    "X = new_data.drop(['price'],axis=1)"
   ]
  },
  {
   "cell_type": "code",
   "execution_count": 28,
   "metadata": {},
   "outputs": [],
   "source": [
    "X_std = StandardScaler().fit_transform(X)"
   ]
  },
  {
   "cell_type": "code",
   "execution_count": 29,
   "metadata": {},
   "outputs": [],
   "source": [
    "pca = PCA(n_components = 30)"
   ]
  },
  {
   "cell_type": "code",
   "execution_count": 30,
   "metadata": {},
   "outputs": [
    {
     "data": {
      "text/plain": [
       "PCA(copy=True, iterated_power='auto', n_components=30, random_state=None,\n",
       "    svd_solver='auto', tol=0.0, whiten=False)"
      ]
     },
     "execution_count": 30,
     "metadata": {},
     "output_type": "execute_result"
    }
   ],
   "source": [
    "pca.fit(X_std)"
   ]
  },
  {
   "cell_type": "code",
   "execution_count": 132,
   "metadata": {},
   "outputs": [
    {
     "name": "stdout",
     "output_type": "stream",
     "text": [
      "Components:\n",
      "  [[ 0.56882401 -0.55787517 -0.03877282 ...  0.0104612   0.01173609\n",
      "  -0.03658751]\n",
      " [-0.09318486  0.00632529  0.28064613 ... -0.05027515 -0.0584203\n",
      "   0.11362305]\n",
      " [ 0.06930489 -0.05449015 -0.04819258 ... -0.08170919 -0.07456746\n",
      "   0.68524868]\n",
      " ...\n",
      " [-0.00175001 -0.00148068  0.010428   ... -0.05565171  0.01138709\n",
      "  -0.00652182]\n",
      " [-0.00936961  0.00886196  0.00169405 ...  0.05822792  0.00540715\n",
      "  -0.00799385]\n",
      " [ 0.00707457  0.00137008 -0.02727283 ...  0.0401469   0.01059509\n",
      "  -0.00134091]]\n",
      "Explained Variance Ratio:\n",
      "  [0.01049535 0.00577208 0.00511449 0.00447475 0.00440411 0.00436534\n",
      " 0.00434308 0.00428944 0.00426857 0.00422517 0.00419477 0.00417717\n",
      " 0.00415408 0.00414091 0.0041244  0.00411953 0.00407084 0.00406079\n",
      " 0.00405333 0.00404633 0.00402984 0.00401241 0.00400448 0.00400171\n",
      " 0.00399035 0.00397855 0.00397596 0.00396774 0.00396174 0.00394318]\n"
     ]
    }
   ],
   "source": [
    "print('Components:\\n ', pca.components_)\n",
    "print('Explained Variance Ratio:\\n ', pca.explained_variance_ratio_)"
   ]
  },
  {
   "cell_type": "code",
   "execution_count": 133,
   "metadata": {},
   "outputs": [
    {
     "data": {
      "image/png": "[encoded data removed]",
      "text/plain": [
       "<Figure size 432x288 with 1 Axes>"
      ]
     },
     "metadata": {
      "needs_background": "light"
     },
     "output_type": "display_data"
    }
   ],
   "source": [
    "#plot explained variance \n",
    "plt.bar(range(pca.explained_variance_ratio_.shape[0]), pca.explained_variance_ratio_, alpha = 0.5, \n",
    "        align = 'center', label = 'individual explained variance')\n",
    "plt.ylabel('Explained variance ratio')\n",
    "plt.xlabel('Principal components')\n",
    "plt.ylim(0, 0.02)\n",
    "plt.legend(loc = 'best')\n",
    "plt.tight_layout()"
   ]
  },
  {
   "cell_type": "code",
   "execution_count": 134,
   "metadata": {},
   "outputs": [
    {
     "name": "stdout",
     "output_type": "stream",
     "text": [
      "Components:\n",
      "  [[-0.70925029  0.06862287  0.70086701  0.03225457]\n",
      " [ 0.06115502 -0.67503154  0.16099556 -0.71740708]\n",
      " [ 0.02279235  0.72711395 -0.01656023 -0.68593846]\n",
      " [ 0.7019292   0.10454007  0.69468815  0.11736762]]\n",
      "Explained Variance Ratio:\n",
      "  [0.36656383 0.2577813  0.24471639 0.13093849]\n"
     ]
    }
   ],
   "source": [
    "y = le_data['price']\n",
    "X = le_data.drop(['price'],axis=1)\n",
    "#standarize the dataset\n",
    "X_std = StandardScaler().fit_transform(X)\n",
    "\n",
    "# call PCA specifying we only want the\n",
    "\n",
    "pca = PCA(n_components =4)\n",
    "pca.fit(X_std)\n",
    "\n",
    "# important information\n",
    "print('Components:\\n ', pca.components_)\n",
    "print('Explained Variance Ratio:\\n ', pca.explained_variance_ratio_)"
   ]
  },
  {
   "cell_type": "code",
   "execution_count": 135,
   "metadata": {},
   "outputs": [],
   "source": [
    "s1 = sum(pca.explained_variance_ratio_[:3])\n",
    "s2 = sum(pca.explained_variance_ratio_[3:])"
   ]
  },
  {
   "cell_type": "code",
   "execution_count": 136,
   "metadata": {},
   "outputs": [
    {
     "data": {
      "image/png": "[encoded data removed]",
      "text/plain": [
       "<Figure size 432x288 with 1 Axes>"
      ]
     },
     "metadata": {
      "needs_background": "light"
     },
     "output_type": "display_data"
    }
   ],
   "source": [
    "plt.bar(range(pca.explained_variance_ratio_.shape[0]), pca.explained_variance_ratio_, alpha = 0.5, \n",
    "        align = 'center', label = 'individual explained variance')\n",
    "\n",
    "plt.ylabel('Explained variance ratio')\n",
    "plt.xlabel('Principal components')\n",
    "plt.ylim(0, 1)\n",
    "plt.legend(loc = 'best')\n",
    "plt.tight_layout()"
   ]
  }
 ],
 "metadata": {
  "kernelspec": {
   "display_name": "Python 3",
   "language": "python",
   "name": "python3"
  },
  "language_info": {
   "codemirror_mode": {
    "name": "ipython",
    "version": 3
   },
   "file_extension": ".py",
   "mimetype": "text/x-python",
   "name": "python",
   "nbconvert_exporter": "python",
   "pygments_lexer": "ipython3",
   "version": "3.7.4"
  }
 },
 "nbformat": 4,
 "nbformat_minor": 2
}
